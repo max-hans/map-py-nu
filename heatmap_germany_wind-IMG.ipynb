{
 "cells": [
  {
   "attachments": {},
   "cell_type": "markdown",
   "metadata": {},
   "source": [
    "Plot climate_var data over Germany. "
   ]
  },
  {
   "cell_type": "code",
   "execution_count": 17,
   "metadata": {},
   "outputs": [],
   "source": [
    "import cartopy.crs as ccrs\n",
    "import cartopy.feature as cf\n",
    "import cartopy.util as cutil\n",
    "import matplotlib.pyplot as plt\n",
    "import matplotlib as mpl\n",
    "import numpy as np\n",
    "import pandas as pd\n",
    "from netCDF4 import Dataset"
   ]
  },
  {
   "attachments": {},
   "cell_type": "markdown",
   "metadata": {},
   "source": [
    "Set spatial and temporal extend."
   ]
  },
  {
   "cell_type": "code",
   "execution_count": 18,
   "metadata": {},
   "outputs": [],
   "source": [
    "timesteps = 1\n",
    "start_lon = 0\n",
    "end_lon = 1440\n",
    "start_lat = 0\n",
    "end_lat = 721"
   ]
  },
  {
   "attachments": {},
   "cell_type": "markdown",
   "metadata": {},
   "source": [
    "Load .nc-file and save the relevant variables. This makes rendering much faster when the nc-file is large. In this example, you can skip this part and continue with the next cell which load the pickle files. "
   ]
  },
  {
   "attachments": {},
   "cell_type": "markdown",
   "metadata": {},
   "source": [
    "Load the pickle-files. "
   ]
  },
  {
   "cell_type": "code",
   "execution_count": 19,
   "metadata": {},
   "outputs": [
    {
     "name": "stdout",
     "output_type": "stream",
     "text": [
      "{'lat': <class 'netCDF4._netCDF4.Variable'>\n",
      "float32 lat(lat)\n",
      "    axis: Y\n",
      "    standard_name: latitude\n",
      "    long_name: Latitude\n",
      "    units: degrees_north\n",
      "unlimited dimensions: \n",
      "current shape = (143,)\n",
      "filling on, default _FillValue of 9.969209968386869e+36 used, 'lon': <class 'netCDF4._netCDF4.Variable'>\n",
      "float32 lon(lon)\n",
      "    axis: X\n",
      "    standard_name: longitude\n",
      "    long_name: Longitude\n",
      "    units: degrees_east\n",
      "unlimited dimensions: \n",
      "current shape = (144,)\n",
      "filling on, default _FillValue of 9.969209968386869e+36 used, 'height': <class 'netCDF4._netCDF4.Variable'>\n",
      "float64 height()\n",
      "    name: height\n",
      "    standard_name: height\n",
      "    long_name: height\n",
      "    units: m\n",
      "    axis: Z\n",
      "    positive: up\n",
      "unlimited dimensions: \n",
      "current shape = ()\n",
      "filling on, default _FillValue of 9.969209968386869e+36 used, 'time': <class 'netCDF4._netCDF4.Variable'>\n",
      "float64 time(time)\n",
      "    axis: T\n",
      "    standard_name: time\n",
      "    long_name: Time axis\n",
      "    time_origin: 2015-01-01 00:00:00\n",
      "    bounds: time_bounds\n",
      "    units: days since 2015-01-01\n",
      "    calendar: gregorian\n",
      "unlimited dimensions: time\n",
      "current shape = (1,)\n",
      "filling on, default _FillValue of 9.969209968386869e+36 used, 'time_bounds': <class 'netCDF4._netCDF4.Variable'>\n",
      "float64 time_bounds(time, axis_nbounds)\n",
      "unlimited dimensions: time\n",
      "current shape = (1, 2)\n",
      "filling on, default _FillValue of 9.969209968386869e+36 used, 'sfcWind': <class 'netCDF4._netCDF4.Variable'>\n",
      "float32 sfcWind(time, lat, lon)\n",
      "    _FillValue: 1e+20\n",
      "    online_operation: average\n",
      "    cell_methods: area: time: mean\n",
      "    interval_operation: 900 s\n",
      "    interval_write: 1 month\n",
      "    standard_name: wind_speed\n",
      "    description: This is the mean of the speed, not the speed computed from the mean u and v components of wind\n",
      "    long_name: Near-Surface Wind Speed\n",
      "    history: none\n",
      "    units: m s-1\n",
      "    cell_measures: area: areacella\n",
      "    coordinates: height\n",
      "    missing_value: 1e+20\n",
      "unlimited dimensions: time\n",
      "current shape = (1, 143, 144)\n",
      "filling on}\n",
      "144\n"
     ]
    }
   ],
   "source": [
    "filename = \"./future-scenarios/new/SSP1-1.9_adaptor.esgf_wps.retrieve-1683660431.0402071-3857-21-ea2837a2-cb74-412f-a840-b5ac29c5a2cb/sfcWind_Amon_IPSL-CM6A-LR_ssp119_r1i1p1f1_gr_21000716-21000716_v20190410.nc\"\n",
    "\n",
    "data = Dataset(filename)\n",
    "\n",
    "print(data.variables)\n",
    "climate_var = data.variables[\"sfcWind\"][:]\n",
    "climate_var = climate_var[0:timesteps, start_lat:end_lat,start_lon:end_lon].flatten()\n",
    "\n",
    "print(len(data.variables[\"lon\"][:]))\n",
    "\n",
    "lons = data.variables[\"lon\"][start_lon:end_lon]\n",
    "lons = np.array(lons[:])\n",
    "\n",
    "\n",
    "lats = data.variables[\"lat\"][:][start_lat:end_lat]\n",
    "\n",
    "climate_var = np.array(climate_var).reshape(timesteps,len(lats),len(lons) )\n",
    "\n"
   ]
  },
  {
   "attachments": {},
   "cell_type": "markdown",
   "metadata": {},
   "source": [
    "Generate the plot. "
   ]
  },
  {
   "cell_type": "code",
   "execution_count": 20,
   "metadata": {},
   "outputs": [
    {
     "data": {
      "image/png": "[encoded data removed]",
      "text/plain": [
       "<Figure size 432x288 with 1 Axes>"
      ]
     },
     "metadata": {
      "needs_background": "light"
     },
     "output_type": "display_data"
    }
   ],
   "source": [
    "%matplotlib inline\n",
    "from IPython.display import clear_output\n",
    "import os\n",
    "import time\n",
    "from cartopy.util import add_cyclic_point\n",
    "\n",
    "cmap = mpl.colormaps[\"Greys_r\"]\n",
    "\n",
    "scale_factor = 0.0003120164276888396\n",
    "offset = 10.552331245928917\n",
    "\n",
    "# Get the current time as a formatted string\n",
    "timestamp = time.strftime(\"%Y%m%d_%H%M%S\")\n",
    "\n",
    "# Specify the name of the new directory with the timestamp\n",
    "new_dir = \"./output/\" + timestamp\n",
    "\n",
    "# Create the new directory\n",
    "os.mkdir(new_dir)\n",
    "\n",
    "steps = 1\n",
    "\n",
    "\n",
    "\n",
    "for i in np.arange(0, timesteps, step = steps):\n",
    "    print(\"processing {}%\".format(round(100*i/(timesteps/steps),2)))\n",
    "    data = climate_var[i]\n",
    "    print(lons.flatten())\n",
    "    # print(lons.reshape(-1).shape)\n",
    "\n",
    "    print(lons)\n",
    "\n",
    "    dataFilled, lonsFilled = add_cyclic_point(data, coord = lons)\n",
    "    print(lonsFilled)\n",
    "    LONS, LATS = np.meshgrid(lonsFilled,lats)\n",
    "    \n",
    "    # set the axes' spatial projection, styling, and title\n",
    "    ax = plt.axes(projection=ccrs.PlateCarree())\n",
    "    ax.axis(\"off\")\n",
    "    \n",
    "    plt.contourf(\n",
    "        LONS,\n",
    "        LATS,\n",
    "        dataFilled,\n",
    "        cmap = cmap,\n",
    "        transform=ccrs.PlateCarree(),\n",
    "        vmin = 0,\n",
    "        vmax = 10\n",
    "    )\n",
    "    plt.tight_layout()\n",
    "    plt.subplots_adjust(left=0, bottom=0, right=1, top=1)\n",
    "    plt.savefig(\"{}/ssp1_1_9_img_frame_{}.jpg\".format(new_dir, i), dpi=600)\n",
    "    clear_output(wait = True)\n",
    "    plt.pause(0.001)\n",
    "\n"
   ]
  }
 ],
 "metadata": {
  "kernelspec": {
   "display_name": "map-env",
   "language": "python",
   "name": "python3"
  },
  "language_info": {
   "codemirror_mode": {
    "name": "ipython",
    "version": 3
   },
   "file_extension": ".py",
   "mimetype": "text/x-python",
   "name": "python",
   "nbconvert_exporter": "python",
   "pygments_lexer": "ipython3",
   "version": "3.7.12"
  },
  "orig_nbformat": 4,
  "vscode": {
   "interpreter": {
    "hash": "e7320a8bd4b8faa0a8c4e4613a388aa24d2472d7029166487b76da830838f74f"
   }
  }
 },
 "nbformat": 4,
 "nbformat_minor": 2
}
