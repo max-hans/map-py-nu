{
 "cells": [
  {
   "cell_type": "markdown",
   "metadata": {},
   "source": [
    "Plot climate_var data over Germany. "
   ]
  },
  {
   "cell_type": "code",
   "execution_count": 2,
   "metadata": {},
   "outputs": [],
   "source": [
    "import cartopy.crs as ccrs\n",
    "import cartopy.feature as cf\n",
    "import cartopy.util as cutil\n",
    "import matplotlib.pyplot as plt\n",
    "import matplotlib as mpl\n",
    "import numpy as np\n",
    "import pandas as pd\n",
    "from netCDF4 import Dataset"
   ]
  },
  {
   "cell_type": "markdown",
   "metadata": {},
   "source": [
    "Set spatial and temporal extend."
   ]
  },
  {
   "cell_type": "code",
   "execution_count": 3,
   "metadata": {},
   "outputs": [],
   "source": [
    "timesteps = 10\n",
    "# these cover the whole world: \n",
    "# 721, 1440\n",
    "start_lon = 0\n",
    "end_lon = 720\n",
    "start_lat = 0\n",
    "end_lat = 360\n",
    "# initially used by nina:\n",
    "# start_lon = 370\n",
    "#end_lon = 392\n",
    "# start_lat = 67\n",
    "# end_lat = 88\n",
    "\n",
    "# filename = \"./Users/ninaeffenberger/phd/2022-03-WpGermany/code/wp-germany/data/raw_data/CMIP6/german_area_7080/canesm5_r1i1p1f1_w5e5_ssp585_sfcwind_lat45.0to57.0lon5.0to16.0_daily_2071_2080.nc\"\n",
    "# filename = \"./windspeed/sfcWind_Amon_EC-Earth3-AerChem_historical_r1i1p1f1_gr_20050716-20100716_v20200624.nc\"\n",
    "# filename = r\"C:\\Users\\maxrh\\Desktop\\map-py-nu\\windspeeds\\adaptor.mars.internal-1679233700.9700336-17718-14-a1e3929e-7e28-4cde-9223-125e2095db86.nc\"\n",
    "\n",
    "filename = \"./adaptor.mars.internal-1680881291.1757808-501-13-fd53dd79-2a7a-4246-b2d3-60de9cc77231.nc\"\n",
    "\n",
    "\n",
    "#  -90 to 90 for latitude and -180 to 180 for longitude\n",
    "# start_lon = -180\n",
    "# end_lon = 180\n",
    "# start_lat = 0\n",
    "# end_lat = 721\n"
   ]
  },
  {
   "cell_type": "markdown",
   "metadata": {},
   "source": [
    "Load .nc-file and save the relevant variables. This makes rendering much faster when the nc-file is large. In this example, you can skip this part and continue with the next cell which load the pickle files. "
   ]
  },
  {
   "cell_type": "code",
   "execution_count": 4,
   "metadata": {},
   "outputs": [
    {
     "ename": "",
     "evalue": "",
     "output_type": "error",
     "traceback": [
      "\u001b[1;31mThe Kernel crashed while executing code in the the current cell or a previous cell. Please review the code in the cell(s) to identify a possible cause of the failure. Click <a href='https://aka.ms/vscodeJupyterKernelCrash'>here</a> for more info. View Jupyter <a href='command:jupyter.viewOutput'>log</a> for further details."
     ]
    },
    {
     "ename": "",
     "evalue": "",
     "output_type": "error",
     "traceback": [
      "\u001b[1;31mCanceled future for execute_request message before replies were done"
     ]
    }
   ],
   "source": [
    "\n",
    "data = Dataset(filename)\n",
    "climate_var = data.variables[\"si10\"][:]\n",
    "# print(climate_var)\n",
    "climate_var = climate_var[0:timesteps, start_lat:end_lat,start_lon:end_lon].flatten()\n",
    "\n",
    "# print(data.variables[\"lat_bnds\"])\n",
    "# print(data.variables[\"lon_bnds\"])\n",
    "\n",
    "# Germany is lon: 6:16, 146:156\n",
    "lons, lats = np.meshgrid(\n",
    "    data.variables[\"longitude\"][start_lon:end_lon], data.variables[\"latitude\"][:][start_lat:end_lat]\n",
    ")\n",
    "\n",
    "climate_var = np.array(climate_var).reshape(timesteps,end_lat - start_lat,end_lon - start_lon )\n",
    "\n",
    "# climate_var[climate_var == -32767] = 0\n"
   ]
  },
  {
   "cell_type": "markdown",
   "metadata": {},
   "source": [
    "Load the pickle-files. "
   ]
  },
  {
   "cell_type": "markdown",
   "metadata": {},
   "source": [
    "Generate the plot. "
   ]
  },
  {
   "cell_type": "code",
   "execution_count": null,
   "metadata": {},
   "outputs": [],
   "source": [
    "%matplotlib inline\n",
    "from IPython.display import display, clear_output\n",
    "\n",
    "cmap = mpl.colormaps[\"Greys_r\"]\n",
    "\n",
    "for i in np.arange(0, timesteps):\n",
    "    # set the axes' spatial projection, styling, and title\n",
    "    ax = plt.axes(projection=ccrs.PlateCarree())\n",
    "    # ax.coastlines()\n",
    "    # generate the contour map\n",
    "\n",
    "    plt.contourf(\n",
    "        lons,\n",
    "        lats,\n",
    "        climate_var[i],\n",
    "        cmap = cmap,\n",
    "        transform=ccrs.PlateCarree(),\n",
    "    )\n",
    "    plt.tight_layout()\n",
    "    # plt.subplots_adjust(left=0, bottom=0, right=1, top=1)\n",
    "    plt.savefig(\"./output/u_frame_{}.jpg\".format(i), dpi=1200)\n",
    "    # ax.add_feature(cf.BORDERS, edgecolor=\"black\")\n",
    "    clear_output(wait = True)\n",
    "    plt.pause(0.001)\n",
    "\n"
   ]
  }
 ],
 "metadata": {
  "kernelspec": {
   "display_name": "map_compute",
   "language": "python",
   "name": "map_compute"
  },
  "language_info": {
   "codemirror_mode": {
    "name": "ipython",
    "version": 3
   },
   "file_extension": ".py",
   "mimetype": "text/x-python",
   "name": "python",
   "nbconvert_exporter": "python",
   "pygments_lexer": "ipython3",
   "version": "3.7.12"
  },
  "orig_nbformat": 4,
  "vscode": {
   "interpreter": {
    "hash": "3bba9cbfcd2bfdf2ba14c89510139f6d22f28bd8cb554ceb7fc47838e12a6d10"
   }
  }
 },
 "nbformat": 4,
 "nbformat_minor": 2
}
