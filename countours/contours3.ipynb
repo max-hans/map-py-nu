{
 "cells": [
  {
   "cell_type": "code",
   "execution_count": 8,
   "metadata": {},
   "outputs": [
    {
     "name": "stdout",
     "output_type": "stream",
     "text": [
      "<xml.etree.ElementTree.ElementTree object at 0x7f9861f1be50>\n"
     ]
    },
    {
     "data": {
      "image/png": "[encoded data removed]",
      "text/plain": [
       "<Figure size 720x360 with 1 Axes>"
      ]
     },
     "metadata": {
      "needs_background": "light"
     },
     "output_type": "display_data"
    }
   ],
   "source": [
    "import cartopy.crs as ccrs\n",
    "import cartopy.io.shapereader as shpreader\n",
    "import matplotlib.pyplot as plt\n",
    "import xml.etree.ElementTree as ET\n",
    "\n",
    "# Create a new figure with Cartopy projection\n",
    "fig = plt.figure(figsize=(10, 5))\n",
    "ax = fig.add_subplot(1, 1, 1, projection=ccrs.PlateCarree())\n",
    "\n",
    "# Add borders to the plot\n",
    "shape_file = shpreader.natural_earth(resolution='110m',category='physical',name='coastline')\n",
    "\n",
    "counter = 0\n",
    "for shape in shpreader.Reader(shape_file).records():\n",
    "    # if counter >= 3:\n",
    "    #     break\n",
    "    counter += 1\n",
    "    ax.add_geometries([shape.geometry], ccrs.PlateCarree(),\n",
    "                      edgecolor='black', facecolor='none')\n",
    "\n",
    "fig.subplots_adjust(left=0, bottom=0, right=1, top=1)\n",
    "\n",
    "\n",
    "# Save the plot as an SVG file\n",
    "plt.savefig('borders_3_TEMP.svg', format=\"svg\", dpi=300, bbox_inches='tight')\n",
    "\n",
    "# Load the SVG file as an ElementTree\n",
    "tree = ET.parse('borders_3_TEMP.svg')\n",
    "root = tree.getroot()\n",
    "\n",
    "# Find the first \"g\" element and add the shapes as children\n",
    "g = root.find('.//{http://www.w3.org/2000/svg}g')\n",
    "\n",
    "counter = 0\n",
    "\n",
    "for shape in shpreader.Reader(shape_file).records():\n",
    "    if counter >= 3:\n",
    "        break\n",
    "    counter += 1\n",
    "    path = ET.Element('path')\n",
    "    path.set('d', shape.geometry.svg(scale_factor=1))\n",
    "    # path.set('stroke', 'red')\n",
    "    # path.set('fill', 'none')\n",
    "    g.append(path)\n",
    "\n",
    "# ax.set_frame_on(False)\n",
    "\n",
    "# Write the updated SVG file to disk\n",
    "tree.write('borders_3.svg')\n",
    "\n",
    "print(tree)"
   ]
  }
 ],
 "metadata": {
  "kernelspec": {
   "display_name": "map_compute",
   "language": "python",
   "name": "python3"
  },
  "language_info": {
   "codemirror_mode": {
    "name": "ipython",
    "version": 3
   },
   "file_extension": ".py",
   "mimetype": "text/x-python",
   "name": "python",
   "nbconvert_exporter": "python",
   "pygments_lexer": "ipython3",
   "version": "3.7.12"
  },
  "orig_nbformat": 4
 },
 "nbformat": 4,
 "nbformat_minor": 2
}
