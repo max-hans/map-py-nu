{
 "cells": [
  {
   "cell_type": "markdown",
   "metadata": {},
   "source": [
    "Plot climate_var data over Germany. "
   ]
  },
  {
   "cell_type": "code",
   "execution_count": 1,
   "metadata": {},
   "outputs": [],
   "source": [
    "import numpy as np\n",
    "import pandas as pd\n",
    "from netCDF4 import Dataset"
   ]
  },
  {
   "cell_type": "markdown",
   "metadata": {},
   "source": [
    "Set spatial and temporal extend."
   ]
  },
  {
   "cell_type": "code",
   "execution_count": 2,
   "metadata": {},
   "outputs": [],
   "source": [
    "timesteps = 912\n",
    "start_lon = 0\n",
    "end_lon = 720\n",
    "start_lat = 0\n",
    "end_lat = 360\n",
    "\n",
    "filename = r\"./adaptor.mars.internal-1680881291.1757808-501-13-fd53dd79-2a7a-4246-b2d3-60de9cc77231.nc\""
   ]
  },
  {
   "cell_type": "code",
   "execution_count": 8,
   "metadata": {},
   "outputs": [],
   "source": [
    "timesteps = 912\n",
    "start_lon = 0\n",
    "end_lon = 1440\n",
    "start_lat = 0\n",
    "end_lat = 721"
   ]
  },
  {
   "cell_type": "markdown",
   "metadata": {},
   "source": [
    "Load .nc-file and save the relevant variables. This makes rendering much faster when the nc-file is large. In this example, you can skip this part and continue with the next cell which load the pickle files. "
   ]
  },
  {
   "cell_type": "code",
   "execution_count": 10,
   "metadata": {},
   "outputs": [
    {
     "name": "stdout",
     "output_type": "stream",
     "text": [
      "1440\n",
      "DONE\n"
     ]
    }
   ],
   "source": [
    "filename = r\"./windspeeds/adaptor.mars.internal-1680881291.1757808-501-13-fd53dd79-2a7a-4246-b2d3-60de9cc77231.nc\"\n",
    "\n",
    "data = Dataset(filename)\n",
    "climate_var = data.variables[\"si10\"][:]\n",
    "climate_var = climate_var[0:timesteps, start_lat:end_lat,start_lon:end_lon].flatten()\n",
    "\n",
    "print(len(data.variables[\"longitude\"][:]))\n",
    "\n",
    "lons = data.variables[\"longitude\"][start_lon:end_lon]\n",
    "lons = np.array(lons[:])\n",
    "\n",
    "\n",
    "lats = data.variables[\"latitude\"][:][start_lat:end_lat]\n",
    "\n",
    "pd.DataFrame(lons).to_pickle(\"./parsed/lons\")\n",
    "pd.DataFrame(lats).to_pickle(\"./parsed/lats\")\n",
    "pd.DataFrame(climate_var).to_pickle(\"./parsed/climate_var\")\n",
    "\n",
    "print(\"DONE\")"
   ]
  }
 ],
 "metadata": {
  "kernelspec": {
   "display_name": "map-env",
   "language": "python",
   "name": "python3"
  },
  "language_info": {
   "codemirror_mode": {
    "name": "ipython",
    "version": 3
   },
   "file_extension": ".py",
   "mimetype": "text/x-python",
   "name": "python",
   "nbconvert_exporter": "python",
   "pygments_lexer": "ipython3",
   "version": "3.10.9"
  },
  "orig_nbformat": 4
 },
 "nbformat": 4,
 "nbformat_minor": 2
}
