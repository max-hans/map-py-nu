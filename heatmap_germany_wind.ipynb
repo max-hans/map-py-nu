{
 "cells": [
  {
   "cell_type": "markdown",
   "metadata": {},
   "source": [
    "Plot climate_var data over Germany. "
   ]
  },
  {
   "cell_type": "code",
   "execution_count": 1,
   "metadata": {},
   "outputs": [],
   "source": [
    "import cartopy.crs as ccrs\n",
    "import cartopy.feature as cf\n",
    "import cartopy.util as cutil\n",
    "import matplotlib.pyplot as plt\n",
    "import matplotlib as mpl\n",
    "import numpy as np\n",
    "import pandas as pd\n",
    "from netCDF4 import Dataset"
   ]
  },
  {
   "cell_type": "markdown",
   "metadata": {},
   "source": [
    "Set spatial and temporal extend."
   ]
  },
  {
   "cell_type": "code",
   "execution_count": 2,
   "metadata": {},
   "outputs": [],
   "source": [
    "timesteps = 912\n",
    "start_lon = 0\n",
    "end_lon = 1440\n",
    "start_lat = 0\n",
    "end_lat = 721"
   ]
  },
  {
   "cell_type": "markdown",
   "metadata": {},
   "source": [
    "Load .nc-file and save the relevant variables. This makes rendering much faster when the nc-file is large. In this example, you can skip this part and continue with the next cell which load the pickle files. "
   ]
  },
  {
   "cell_type": "code",
   "execution_count": 3,
   "metadata": {},
   "outputs": [
    {
     "ename": "KeyboardInterrupt",
     "evalue": "",
     "output_type": "error",
     "traceback": [
      "\u001b[1;31m---------------------------------------------------------------------------\u001b[0m",
      "\u001b[1;31mKeyboardInterrupt\u001b[0m                         Traceback (most recent call last)",
      "Cell \u001b[1;32mIn[3], line 7\u001b[0m\n\u001b[0;32m      5\u001b[0m filename \u001b[39m=\u001b[39m \u001b[39mr\u001b[39m\u001b[39m\"\u001b[39m\u001b[39m./windspeeds/adaptor.mars.internal-1680881291.1757808-501-13-fd53dd79-2a7a-4246-b2d3-60de9cc77231.nc\u001b[39m\u001b[39m\"\u001b[39m\n\u001b[0;32m      6\u001b[0m data \u001b[39m=\u001b[39m Dataset(filename)\n\u001b[1;32m----> 7\u001b[0m climate_var \u001b[39m=\u001b[39m data\u001b[39m.\u001b[39;49mvariables[\u001b[39m\"\u001b[39;49m\u001b[39msi10\u001b[39;49m\u001b[39m\"\u001b[39;49m][:]\n\u001b[0;32m      8\u001b[0m \u001b[39m# print(climate_var)\u001b[39;00m\n\u001b[0;32m      9\u001b[0m climate_var \u001b[39m=\u001b[39m climate_var[\u001b[39m0\u001b[39m:timesteps, start_lat:end_lat,start_lon:end_lon]\u001b[39m.\u001b[39mflatten()\n",
      "File \u001b[1;32msrc\\netCDF4\\_netCDF4.pyx:5028\u001b[0m, in \u001b[0;36mnetCDF4._netCDF4.Variable.__getitem__\u001b[1;34m()\u001b[0m\n",
      "File \u001b[1;32mc:\\Users\\maxrh\\miniconda3\\envs\\map-env\\lib\\site-packages\\numpy\\ma\\core.py:4184\u001b[0m, in \u001b[0;36mMaskedArray.__add__\u001b[1;34m(self, other)\u001b[0m\n\u001b[0;32m   4182\u001b[0m \u001b[39mif\u001b[39;00m \u001b[39mself\u001b[39m\u001b[39m.\u001b[39m_delegate_binop(other):\n\u001b[0;32m   4183\u001b[0m     \u001b[39mreturn\u001b[39;00m \u001b[39mNotImplemented\u001b[39m\n\u001b[1;32m-> 4184\u001b[0m \u001b[39mreturn\u001b[39;00m add(\u001b[39mself\u001b[39;49m, other)\n",
      "File \u001b[1;32mc:\\Users\\maxrh\\miniconda3\\envs\\map-env\\lib\\site-packages\\numpy\\ma\\core.py:1013\u001b[0m, in \u001b[0;36m_MaskedBinaryOperation.__call__\u001b[1;34m(self, a, b, *args, **kwargs)\u001b[0m\n\u001b[0;32m   1011\u001b[0m \u001b[39mwith\u001b[39;00m np\u001b[39m.\u001b[39merrstate():\n\u001b[0;32m   1012\u001b[0m     np\u001b[39m.\u001b[39mseterr(divide\u001b[39m=\u001b[39m\u001b[39m'\u001b[39m\u001b[39mignore\u001b[39m\u001b[39m'\u001b[39m, invalid\u001b[39m=\u001b[39m\u001b[39m'\u001b[39m\u001b[39mignore\u001b[39m\u001b[39m'\u001b[39m)\n\u001b[1;32m-> 1013\u001b[0m     result \u001b[39m=\u001b[39m \u001b[39mself\u001b[39m\u001b[39m.\u001b[39mf(da, db, \u001b[39m*\u001b[39margs, \u001b[39m*\u001b[39m\u001b[39m*\u001b[39mkwargs)\n\u001b[0;32m   1014\u001b[0m \u001b[39m# Get the mask for the result\u001b[39;00m\n\u001b[0;32m   1015\u001b[0m (ma, mb) \u001b[39m=\u001b[39m (getmask(a), getmask(b))\n",
      "\u001b[1;31mKeyboardInterrupt\u001b[0m: "
     ]
    }
   ],
   "source": [
    "reaload_data = True\n",
    "\n",
    "if reaload_data:\n",
    "\n",
    "    filename = r\"./windspeeds/adaptor.mars.internal-1680881291.1757808-501-13-fd53dd79-2a7a-4246-b2d3-60de9cc77231.nc\"\n",
    "    data = Dataset(filename)\n",
    "    climate_var = data.variables[\"si10\"][:]\n",
    "    # print(climate_var)\n",
    "    climate_var = climate_var[0:timesteps, start_lat:end_lat,start_lon:end_lon].flatten()\n",
    "\n",
    "    lons = data.variables[\"longitude\"][start_lon:end_lon]\n",
    "    lats = data.variables[\"latitude\"][:][start_lat:end_lat]\n",
    "\n",
    "    pd.DataFrame(lons).to_pickle(\n",
    "        \"./dummy_data/lons\"\n",
    "    )\n",
    "    pd.DataFrame(lats).to_pickle(\n",
    "        \"./dummy_data/lats\"\n",
    "    )\n",
    "    pd.DataFrame(climate_var).to_pickle(\n",
    "        \"./dummy_data/climate_var\"\n",
    "    )"
   ]
  },
  {
   "cell_type": "markdown",
   "metadata": {},
   "source": [
    "Load the pickle-files. "
   ]
  },
  {
   "cell_type": "code",
   "execution_count": 5,
   "metadata": {},
   "outputs": [],
   "source": [
    "# lons = np.load(\"dummy_data/lons\", allow_pickle=True)\n",
    "# lats = np.load(\"dummy_data/lats\", allow_pickle=True)\n",
    "clim_var_loaded = np.load(\"dummy_data/climate_var\", allow_pickle=True)\n",
    "\n",
    "climate_var = np.array(clim_var_loaded).reshape(timesteps,end_lat - start_lat,end_lon - start_lon )"
   ]
  },
  {
   "cell_type": "markdown",
   "metadata": {},
   "source": [
    "Generate the plot. "
   ]
  },
  {
   "cell_type": "code",
   "execution_count": 8,
   "metadata": {},
   "outputs": [
    {
     "name": "stdout",
     "output_type": "stream",
     "text": [
      "processing 0.0%\n",
      "     0     1     2     3     4     5     6     7     8     9     ...   1430  \\\n",
      "0     0.0  0.25   0.5  0.75   1.0  1.25   1.5  1.75   2.0  2.25  ...  357.5   \n",
      "1     0.0  0.25   0.5  0.75   1.0  1.25   1.5  1.75   2.0  2.25  ...  357.5   \n",
      "2     0.0  0.25   0.5  0.75   1.0  1.25   1.5  1.75   2.0  2.25  ...  357.5   \n",
      "3     0.0  0.25   0.5  0.75   1.0  1.25   1.5  1.75   2.0  2.25  ...  357.5   \n",
      "4     0.0  0.25   0.5  0.75   1.0  1.25   1.5  1.75   2.0  2.25  ...  357.5   \n",
      "..    ...   ...   ...   ...   ...   ...   ...   ...   ...   ...  ...    ...   \n",
      "716   0.0  0.25   0.5  0.75   1.0  1.25   1.5  1.75   2.0  2.25  ...  357.5   \n",
      "717   0.0  0.25   0.5  0.75   1.0  1.25   1.5  1.75   2.0  2.25  ...  357.5   \n",
      "718   0.0  0.25   0.5  0.75   1.0  1.25   1.5  1.75   2.0  2.25  ...  357.5   \n",
      "719   0.0  0.25   0.5  0.75   1.0  1.25   1.5  1.75   2.0  2.25  ...  357.5   \n",
      "720   0.0  0.25   0.5  0.75   1.0  1.25   1.5  1.75   2.0  2.25  ...  357.5   \n",
      "\n",
      "       1431   1432    1433   1434    1435   1436    1437   1438    1439  \n",
      "0    357.75  358.0  358.25  358.5  358.75  359.0  359.25  359.5  359.75  \n",
      "1    357.75  358.0  358.25  358.5  358.75  359.0  359.25  359.5  359.75  \n",
      "2    357.75  358.0  358.25  358.5  358.75  359.0  359.25  359.5  359.75  \n",
      "3    357.75  358.0  358.25  358.5  358.75  359.0  359.25  359.5  359.75  \n",
      "4    357.75  358.0  358.25  358.5  358.75  359.0  359.25  359.5  359.75  \n",
      "..      ...    ...     ...    ...     ...    ...     ...    ...     ...  \n",
      "716  357.75  358.0  358.25  358.5  358.75  359.0  359.25  359.5  359.75  \n",
      "717  357.75  358.0  358.25  358.5  358.75  359.0  359.25  359.5  359.75  \n",
      "718  357.75  358.0  358.25  358.5  358.75  359.0  359.25  359.5  359.75  \n",
      "719  357.75  358.0  358.25  358.5  358.75  359.0  359.25  359.5  359.75  \n",
      "720  357.75  358.0  358.25  358.5  358.75  359.0  359.25  359.5  359.75  \n",
      "\n",
      "[721 rows x 1440 columns]\n"
     ]
    },
    {
     "ename": "ValueError",
     "evalue": "The coordinate must be 1-dimensional.",
     "output_type": "error",
     "traceback": [
      "\u001b[1;31m---------------------------------------------------------------------------\u001b[0m",
      "\u001b[1;31mValueError\u001b[0m                                Traceback (most recent call last)",
      "Cell \u001b[1;32mIn[8], line 28\u001b[0m\n\u001b[0;32m     25\u001b[0m data \u001b[39m=\u001b[39m climate_var[i]\n\u001b[0;32m     26\u001b[0m \u001b[39mprint\u001b[39m(lons)\n\u001b[1;32m---> 28\u001b[0m data, lons \u001b[39m=\u001b[39m add_cyclic_point(data, coord\u001b[39m=\u001b[39;49mlons)\n\u001b[0;32m     29\u001b[0m \u001b[39m# set the axes' spatial projection, styling, and title\u001b[39;00m\n\u001b[0;32m     30\u001b[0m ax \u001b[39m=\u001b[39m plt\u001b[39m.\u001b[39maxes(projection\u001b[39m=\u001b[39mccrs\u001b[39m.\u001b[39mPlateCarree())\n",
      "File \u001b[1;32mc:\\Users\\maxrh\\miniconda3\\envs\\map-env\\lib\\site-packages\\cartopy\\util.py:71\u001b[0m, in \u001b[0;36madd_cyclic_point\u001b[1;34m(data, coord, axis)\u001b[0m\n\u001b[0;32m     69\u001b[0m \u001b[39mif\u001b[39;00m coord \u001b[39mis\u001b[39;00m \u001b[39mnot\u001b[39;00m \u001b[39mNone\u001b[39;00m:\n\u001b[0;32m     70\u001b[0m     \u001b[39mif\u001b[39;00m coord\u001b[39m.\u001b[39mndim \u001b[39m!=\u001b[39m \u001b[39m1\u001b[39m:\n\u001b[1;32m---> 71\u001b[0m         \u001b[39mraise\u001b[39;00m \u001b[39mValueError\u001b[39;00m(\u001b[39m'\u001b[39m\u001b[39mThe coordinate must be 1-dimensional.\u001b[39m\u001b[39m'\u001b[39m)\n\u001b[0;32m     72\u001b[0m     \u001b[39mif\u001b[39;00m \u001b[39mlen\u001b[39m(coord) \u001b[39m!=\u001b[39m data\u001b[39m.\u001b[39mshape[axis]:\n\u001b[0;32m     73\u001b[0m         \u001b[39mraise\u001b[39;00m \u001b[39mValueError\u001b[39;00m(\u001b[39mf\u001b[39m\u001b[39m'\u001b[39m\u001b[39mThe length of the coordinate does not match \u001b[39m\u001b[39m'\u001b[39m\n\u001b[0;32m     74\u001b[0m                          \u001b[39mf\u001b[39m\u001b[39m'\u001b[39m\u001b[39mthe size of the corresponding dimension of \u001b[39m\u001b[39m'\u001b[39m\n\u001b[0;32m     75\u001b[0m                          \u001b[39mf\u001b[39m\u001b[39m'\u001b[39m\u001b[39mthe data array: len(coord) = \u001b[39m\u001b[39m{\u001b[39;00m\u001b[39mlen\u001b[39m(coord)\u001b[39m}\u001b[39;00m\u001b[39m, \u001b[39m\u001b[39m'\u001b[39m\n\u001b[0;32m     76\u001b[0m                          \u001b[39mf\u001b[39m\u001b[39m'\u001b[39m\u001b[39mdata.shape[\u001b[39m\u001b[39m{\u001b[39;00maxis\u001b[39m}\u001b[39;00m\u001b[39m] = \u001b[39m\u001b[39m{\u001b[39;00mdata\u001b[39m.\u001b[39mshape[axis]\u001b[39m}\u001b[39;00m\u001b[39m.\u001b[39m\u001b[39m'\u001b[39m)\n",
      "\u001b[1;31mValueError\u001b[0m: The coordinate must be 1-dimensional."
     ]
    }
   ],
   "source": [
    "%matplotlib inline\n",
    "from IPython.display import clear_output\n",
    "import os\n",
    "import time\n",
    "from cartopy.util import add_cyclic_point\n",
    "\n",
    "cmap = mpl.colormaps[\"Greys_r\"]\n",
    "\n",
    "scale_factor = 0.0003120164276888396\n",
    "offset = 10.552331245928917\n",
    "\n",
    "# Get the current time as a formatted string\n",
    "timestamp = time.strftime(\"%Y%m%d_%H%M%S\")\n",
    "\n",
    "# Specify the name of the new directory with the timestamp\n",
    "new_dir = \"./output/\" + timestamp\n",
    "\n",
    "# Create the new directory\n",
    "os.mkdir(new_dir)\n",
    "\n",
    "steps = 1\n",
    "\n",
    "for i in np.arange(0, timesteps, step = steps):\n",
    "    print(\"processing {}%\".format(round(100*i/(timesteps/steps),2)))\n",
    "    data = climate_var[i]\n",
    "    print(lons)\n",
    "\n",
    "    # data, lons = add_cyclic_point(data, coord=lons)\n",
    "    \n",
    "    # set the axes' spatial projection, styling, and title\n",
    "    ax = plt.axes(projection=ccrs.PlateCarree())\n",
    "    ax.axis(\"off\")\n",
    "    \n",
    "    plt.contourf(\n",
    "        lons,\n",
    "        lats,\n",
    "        data,\n",
    "        cmap = cmap,\n",
    "        transform=ccrs.PlateCarree(),\n",
    "        vmin = 0,\n",
    "        vmax = 20\n",
    "    )\n",
    "    plt.tight_layout()\n",
    "    plt.subplots_adjust(left=0, bottom=0, right=1, top=1)\n",
    "    plt.savefig(\"{}/frame_{}.jpg\".format(new_dir, i), dpi=600)\n",
    "    clear_output(wait = True)\n",
    "    plt.pause(0.001)\n",
    "\n"
   ]
  }
 ],
 "metadata": {
  "kernelspec": {
   "display_name": "map-env",
   "language": "python",
   "name": "python3"
  },
  "language_info": {
   "codemirror_mode": {
    "name": "ipython",
    "version": 3
   },
   "file_extension": ".py",
   "mimetype": "text/x-python",
   "name": "python",
   "nbconvert_exporter": "python",
   "pygments_lexer": "ipython3",
   "version": "3.10.9"
  },
  "orig_nbformat": 4,
  "vscode": {
   "interpreter": {
    "hash": "e7320a8bd4b8faa0a8c4e4613a388aa24d2472d7029166487b76da830838f74f"
   }
  }
 },
 "nbformat": 4,
 "nbformat_minor": 2
}
