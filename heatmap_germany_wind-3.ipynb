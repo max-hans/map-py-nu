{
 "cells": [
  {
   "cell_type": "markdown",
   "metadata": {},
   "source": [
    "Plot climate_var data over Germany. "
   ]
  },
  {
   "cell_type": "code",
   "execution_count": 1,
   "metadata": {},
   "outputs": [],
   "source": [
    "import cartopy.crs as ccrs\n",
    "import cartopy.feature as cf\n",
    "import cartopy.util as cutil\n",
    "import matplotlib.pyplot as plt\n",
    "import matplotlib as mpl\n",
    "import numpy as np\n",
    "import pandas as pd\n",
    "from netCDF4 import Dataset"
   ]
  },
  {
   "cell_type": "markdown",
   "metadata": {},
   "source": [
    "Set spatial and temporal extend."
   ]
  },
  {
   "cell_type": "code",
   "execution_count": 2,
   "metadata": {},
   "outputs": [],
   "source": [
    "timesteps = 912\n",
    "start_lon = 0\n",
    "end_lon = 1440\n",
    "start_lat = 0\n",
    "end_lat = 721"
   ]
  },
  {
   "cell_type": "markdown",
   "metadata": {},
   "source": [
    "Load .nc-file and save the relevant variables. This makes rendering much faster when the nc-file is large. In this example, you can skip this part and continue with the next cell which load the pickle files. "
   ]
  },
  {
   "cell_type": "markdown",
   "metadata": {},
   "source": [
    "Load the pickle-files. "
   ]
  },
  {
   "cell_type": "code",
   "execution_count": 3,
   "metadata": {},
   "outputs": [
    {
     "name": "stdout",
     "output_type": "stream",
     "text": [
      "721 1440\n"
     ]
    }
   ],
   "source": [
    "lats = np.load(\"parsed/lats\", allow_pickle=True)\n",
    "lons = np.load(\"parsed/lons\", allow_pickle=True)\n",
    "print(len(lats), len(lons))\n",
    "\n",
    "scale_factor = 0.0003120164276888396\n",
    "offset = 10.552331245928917\n",
    "\n",
    "\n",
    "climate_var = np.load(\"parsed/climate_var\", allow_pickle=True)\n",
    "# climate_var = climate_var * scale_factor + offset\n",
    "\n",
    "climate_var = np.array(climate_var).reshape(timesteps,len(lats),len(lons) )\n",
    "\n"
   ]
  },
  {
   "cell_type": "markdown",
   "metadata": {},
   "source": [
    "Generate the plot. "
   ]
  },
  {
   "cell_type": "code",
   "execution_count": 1,
   "metadata": {},
   "outputs": [
    {
     "ename": "NameError",
     "evalue": "name 'np' is not defined",
     "output_type": "error",
     "traceback": [
      "\u001b[1;31m---------------------------------------------------------------------------\u001b[0m",
      "\u001b[1;31mNameError\u001b[0m                                 Traceback (most recent call last)",
      "Cell \u001b[1;32mIn[1], line 10\u001b[0m\n\u001b[0;32m      6\u001b[0m \u001b[39mimport\u001b[39;00m \u001b[39mmatplotlib\u001b[39;00m \u001b[39mas\u001b[39;00m \u001b[39mmpl\u001b[39;00m\n\u001b[0;32m      8\u001b[0m cmap \u001b[39m=\u001b[39m mpl\u001b[39m.\u001b[39mcolormaps[\u001b[39m\"\u001b[39m\u001b[39mGreys_r\u001b[39m\u001b[39m\"\u001b[39m]\n\u001b[1;32m---> 10\u001b[0m \u001b[39mprint\u001b[39m(np\u001b[39m.\u001b[39mamin(climate_var),np\u001b[39m.\u001b[39mamax(climate_var))\n\u001b[0;32m     12\u001b[0m \u001b[39m# Get the current time as a formatted string\u001b[39;00m\n\u001b[0;32m     13\u001b[0m timestamp \u001b[39m=\u001b[39m time\u001b[39m.\u001b[39mstrftime(\u001b[39m\"\u001b[39m\u001b[39m%\u001b[39m\u001b[39mY\u001b[39m\u001b[39m%\u001b[39m\u001b[39mm\u001b[39m\u001b[39m%d\u001b[39;00m\u001b[39m_\u001b[39m\u001b[39m%\u001b[39m\u001b[39mH\u001b[39m\u001b[39m%\u001b[39m\u001b[39mM\u001b[39m\u001b[39m%\u001b[39m\u001b[39mS\u001b[39m\u001b[39m\"\u001b[39m)\n",
      "\u001b[1;31mNameError\u001b[0m: name 'np' is not defined"
     ]
    }
   ],
   "source": [
    "%matplotlib inline\n",
    "from IPython.display import clear_output\n",
    "import os\n",
    "import time\n",
    "from cartopy.util import add_cyclic_point\n",
    "\n",
    "cmap = mpl.colormaps[\"Greys_r\"]\n",
    "\n",
    "print(np.amin(climate_var),np.amax(climate_var))\n",
    "\n",
    "# Get the current time as a formatted string\n",
    "timestamp = time.strftime(\"%Y%m%d_%H%M%S\")\n",
    "\n",
    "# Specify the name of the new directory with the timestamp\n",
    "new_dir = \"./output/\" + timestamp\n",
    "\n",
    "# Create the new directory\n",
    "os.mkdir(new_dir)\n",
    "\n",
    "steps = 1\n",
    "\n",
    "for i in np.arange(0, timesteps, step = steps):\n",
    "    print(\"processing {}%\".format(round(100*i/(timesteps/steps),2)))\n",
    "    data = climate_var[i]\n",
    "    print(lons[0].values.flatten())\n",
    "    # print(lons.reshape(-1).shape)\n",
    "\n",
    "    dataFilled, lonsFilled = add_cyclic_point(data, coord = lons[0].values.flatten())\n",
    "    print(lonsFilled)\n",
    "    LONS, LATS = np.meshgrid(lonsFilled,lats)\n",
    "    \n",
    "    # set the axes' spatial projection, styling, and title\n",
    "    ax = plt.axes(projection=ccrs.PlateCarree())\n",
    "    ax.axis(\"off\")\n",
    "    \n",
    "    plt.contourf(\n",
    "        LONS,\n",
    "        LATS,\n",
    "        dataFilled,\n",
    "        cmap = cmap,\n",
    "        transform=ccrs.PlateCarree(),\n",
    "        vmin = 0,\n",
    "        vmax = 15,\n",
    "        levels=20\n",
    "    )\n",
    "    plt.tight_layout()\n",
    "    plt.subplots_adjust(left=0, bottom=0, right=1, top=1)\n",
    "    plt.savefig(\"{}/frame_{}.jpg\".format(new_dir, i), dpi=600)\n",
    "    clear_output(wait = True)\n",
    "    plt.pause(0.001)\n",
    "\n"
   ]
  }
 ],
 "metadata": {
  "kernelspec": {
   "display_name": "map-env",
   "language": "python",
   "name": "python3"
  },
  "language_info": {
   "codemirror_mode": {
    "name": "ipython",
    "version": 3
   },
   "file_extension": ".py",
   "mimetype": "text/x-python",
   "name": "python",
   "nbconvert_exporter": "python",
   "pygments_lexer": "ipython3",
   "version": "3.10.9"
  },
  "orig_nbformat": 4,
  "vscode": {
   "interpreter": {
    "hash": "e7320a8bd4b8faa0a8c4e4613a388aa24d2472d7029166487b76da830838f74f"
   }
  }
 },
 "nbformat": 4,
 "nbformat_minor": 2
}
