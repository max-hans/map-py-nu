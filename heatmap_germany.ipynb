{
 "cells": [
  {
   "cell_type": "markdown",
   "metadata": {},
   "source": [
    "Plot climate_var data over Germany. "
   ]
  },
  {
   "cell_type": "code",
   "execution_count": 36,
   "metadata": {},
   "outputs": [],
   "source": [
    "import cartopy.crs as ccrs\n",
    "import cartopy.feature as cf\n",
    "import cartopy.util as cutil\n",
    "import matplotlib.pyplot as plt\n",
    "import matplotlib as mpl\n",
    "import numpy as np\n",
    "import pandas as pd\n",
    "from netCDF4 import Dataset"
   ]
  },
  {
   "cell_type": "markdown",
   "metadata": {},
   "source": [
    "Set spatial and temporal extend."
   ]
  },
  {
   "cell_type": "code",
   "execution_count": 37,
   "metadata": {},
   "outputs": [],
   "source": [
    "timesteps = 60\n",
    "# these cover the whole world: \n",
    "# 721, 1440\n",
    "start_lon = 0\n",
    "end_lon = 1440\n",
    "start_lat = 0\n",
    "end_lat = 721\n",
    "# initially used by nina:\n",
    "# start_lon = 370\n",
    "#end_lon = 392\n",
    "# start_lat = 67\n",
    "# end_lat = 88\n",
    "\n",
    "# filename = \"./Users/ninaeffenberger/phd/2022-03-WpGermany/code/wp-germany/data/raw_data/CMIP6/german_area_7080/canesm5_r1i1p1f1_w5e5_ssp585_sfcwind_lat45.0to57.0lon5.0to16.0_daily_2071_2080.nc\"\n",
    "# filename = \"./windspeed/sfcWind_Amon_EC-Earth3-AerChem_historical_r1i1p1f1_gr_20050716-20100716_v20200624.nc\"\n",
    "filename = r\"C:\\Users\\maxrh\\Desktop\\map-py-nu\\windspeeds\\adaptor.mars.internal-1679233700.9700336-17718-14-a1e3929e-7e28-4cde-9223-125e2095db86.nc\"\n",
    "\n",
    "\n"
   ]
  },
  {
   "cell_type": "markdown",
   "metadata": {},
   "source": [
    "Load .nc-file and save the relevant variables. This makes rendering much faster when the nc-file is large. In this example, you can skip this part and continue with the next cell which load the pickle files. "
   ]
  },
  {
   "cell_type": "code",
   "execution_count": 38,
   "metadata": {},
   "outputs": [
    {
     "name": "stdout",
     "output_type": "stream",
     "text": [
      "{'longitude': <class 'netCDF4._netCDF4.Variable'>\n",
      "float32 longitude(longitude)\n",
      "    units: degrees_east\n",
      "    long_name: longitude\n",
      "unlimited dimensions: \n",
      "current shape = (1440,)\n",
      "filling on, default _FillValue of 9.969209968386869e+36 used, 'latitude': <class 'netCDF4._netCDF4.Variable'>\n",
      "float32 latitude(latitude)\n",
      "    units: degrees_north\n",
      "    long_name: latitude\n",
      "unlimited dimensions: \n",
      "current shape = (721,)\n",
      "filling on, default _FillValue of 9.969209968386869e+36 used, 'time': <class 'netCDF4._netCDF4.Variable'>\n",
      "int32 time(time)\n",
      "    units: hours since 1900-01-01 00:00:00.0\n",
      "    long_name: time\n",
      "    calendar: gregorian\n",
      "unlimited dimensions: \n",
      "current shape = (60,)\n",
      "filling on, default _FillValue of -2147483647 used, 'u10': <class 'netCDF4._netCDF4.Variable'>\n",
      "int16 u10(time, latitude, longitude)\n",
      "    scale_factor: 0.0004912615022485689\n",
      "    add_offset: -1.7309165597062024\n",
      "    _FillValue: -32767\n",
      "    missing_value: -32767\n",
      "    units: m s**-1\n",
      "    long_name: 10 metre U wind component\n",
      "unlimited dimensions: \n",
      "current shape = (60, 721, 1440)\n",
      "filling on, 'v10': <class 'netCDF4._netCDF4.Variable'>\n",
      "int16 v10(time, latitude, longitude)\n",
      "    scale_factor: 0.0004962252567883783\n",
      "    add_offset: 2.5823672628904046\n",
      "    _FillValue: -32767\n",
      "    missing_value: -32767\n",
      "    units: m s**-1\n",
      "    long_name: 10 metre V wind component\n",
      "unlimited dimensions: \n",
      "current shape = (60, 721, 1440)\n",
      "filling on}\n"
     ]
    }
   ],
   "source": [
    "\n",
    "data = Dataset(filename)\n",
    "print(data.variables)\n",
    "climate_var = data.variables[\"u10\"][:]\n",
    "climate_var = climate_var[0:timesteps, start_lat:end_lat,start_lon:end_lon].flatten()\n",
    "\n",
    "# print(data.variables[\"lat_bnds\"])\n",
    "# print(data.variables[\"lon_bnds\"])\n",
    "\n",
    "# Germany is lon: 6:16, 146:156\n",
    "lons, lats = np.meshgrid(\n",
    "    data.variables[\"longitude\"][start_lon:end_lon], data.variables[\"latitude\"][:][start_lat:end_lat]\n",
    ")\n",
    "pd.DataFrame(lons).to_pickle(\n",
    "    \"./dummy_data/lons\"\n",
    ")\n",
    "pd.DataFrame(lats).to_pickle(\n",
    "    \"./dummy_data/lats\"\n",
    ")\n",
    "pd.DataFrame(climate_var).to_pickle(\n",
    "    \"./dummy_data/climate_var\"\n",
    ")"
   ]
  },
  {
   "cell_type": "markdown",
   "metadata": {},
   "source": [
    "Load the pickle-files. "
   ]
  },
  {
   "cell_type": "code",
   "execution_count": 39,
   "metadata": {},
   "outputs": [],
   "source": [
    "lons = np.load(\"dummy_data/lons\", allow_pickle=True)\n",
    "lats = np.load(\"dummy_data/lats\", allow_pickle=True)\n",
    "clim_var = np.load(\"dummy_data/climate_var\", allow_pickle=True)\n",
    "climate_var = np.array(clim_var).reshape(timesteps,end_lat - start_lat,end_lon - start_lon )"
   ]
  },
  {
   "cell_type": "markdown",
   "metadata": {},
   "source": [
    "Generate the plot. "
   ]
  },
  {
   "cell_type": "code",
   "execution_count": 40,
   "metadata": {},
   "outputs": [],
   "source": [
    "%matplotlib inline\n",
    "from IPython.display import display, clear_output\n",
    "\n",
    "cmap = mpl.colormaps[\"Greys_r\"]\n",
    "\n",
    "for i in np.arange(0, timesteps):\n",
    "    # set the axes' spatial projection, styling, and title\n",
    "    ax = plt.axes(projection=ccrs.PlateCarree())\n",
    "    # ax.coastlines()\n",
    "    # generate the contour map\n",
    "\n",
    "    plt.contourf(\n",
    "        lons,\n",
    "        lats,\n",
    "        climate_var[i],\n",
    "        60,\n",
    "        cmap = cmap,\n",
    "        transform=ccrs.PlateCarree(),\n",
    "    )\n",
    "\n",
    "    plt.savefig(\"./output/u_frame_{}.jpg\".format(i), dpi=1200)\n",
    "    # ax.add_feature(cf.BORDERS, edgecolor=\"black\")\n",
    "    clear_output(wait = True)\n",
    "    plt.pause(0.001)\n",
    "\n"
   ]
  }
 ],
 "metadata": {
  "kernelspec": {
   "display_name": "Python 3.9.10 ('torch')",
   "language": "python",
   "name": "python3"
  },
  "language_info": {
   "codemirror_mode": {
    "name": "ipython",
    "version": 3
   },
   "file_extension": ".py",
   "mimetype": "text/x-python",
   "name": "python",
   "nbconvert_exporter": "python",
   "pygments_lexer": "ipython3",
   "version": "3.11.2"
  },
  "orig_nbformat": 4,
  "vscode": {
   "interpreter": {
    "hash": "3bba9cbfcd2bfdf2ba14c89510139f6d22f28bd8cb554ceb7fc47838e12a6d10"
   }
  }
 },
 "nbformat": 4,
 "nbformat_minor": 2
}
